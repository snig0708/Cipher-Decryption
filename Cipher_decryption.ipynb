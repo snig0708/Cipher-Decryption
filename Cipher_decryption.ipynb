{
 "cells": [
  {
   "cell_type": "code",
   "execution_count": 35,
   "metadata": {
    "collapsed": true
   },
   "outputs": [],
   "source": [
    "import numpy as np\n",
    "import matplotlib.pyplot as plt\n",
    "\n",
    "import string     # to load the ASCII characters\n",
    "import random     # to shuffle the ASCII characters and create a substitution cipher\n",
    "import re         # (REGEX library) to perform few string operations later \n",
    "import requests\n",
    "import os\n",
    "import textwrap "
   ]
  },
  {
   "cell_type": "markdown",
   "metadata": {},
   "source": [
    "# Building a Subsititution Cipher "
   ]
  },
  {
   "cell_type": "code",
   "execution_count": 36,
   "metadata": {},
   "outputs": [
    {
     "name": "stdout",
     "output_type": "stream",
     "text": [
      "Key-elements: (Original Characters) \n",
      "\n",
      "['a', 'b', 'c', 'd', 'e', 'f', 'g', 'h', 'i', 'j', 'k', 'l', 'm', 'n', 'o', 'p', 'q', 'r', 's', 't', 'u', 'v', 'w', 'x', 'y', 'z']\n",
      "\n",
      "\n",
      "Value-elements: (Cipher Characters) \n",
      "\n",
      "['w', 'e', 'o', 'i', 'p', 't', 'x', 'g', 'l', 'm', 's', 'h', 'c', 'v', 'q', 'd', 'f', 'k', 'n', 'z', 'y', 'b', 'j', 'a', 'r', 'u']\n",
      "\n",
      "\n",
      "True- Mapping of the cipher with key values: \n",
      "\n",
      "{'a': 'w', 'b': 'e', 'c': 'o', 'd': 'i', 'e': 'p', 'f': 't', 'g': 'x', 'h': 'g', 'i': 'l', 'j': 'm', 'k': 's', 'l': 'h', 'm': 'c', 'n': 'v', 'o': 'q', 'p': 'd', 'q': 'f', 'r': 'k', 's': 'n', 't': 'z', 'u': 'y', 'v': 'b', 'w': 'j', 'x': 'a', 'y': 'r', 'z': 'u'}\n"
     ]
    }
   ],
   "source": [
    "# Create two lists: One for the key, other for the value\n",
    "\n",
    "lettersA = list(string.ascii_lowercase)\n",
    "lettersB = list(string.ascii_lowercase) \n",
    "\n",
    "# Initialize a dictionary for true mapping between keys and cipher characters\n",
    "\n",
    "true_mapping = {}\n",
    "\n",
    "## Shuffle the second list of characters:     ...... to produce a random cipher\n",
    "\n",
    "random.shuffle(lettersB)\n",
    "\n",
    "## Create a loop to map the listB elements to listA keys.\n",
    "# Store the true mapping in the true_mapping dictionary\n",
    "\n",
    "for k,v in zip(lettersA, lettersB):\n",
    "    true_mapping[k] = v\n",
    "    \n",
    "    \n",
    "## Displaying the list elements and true_mapping dictionary\n",
    "print(\"Key-elements: (Original Characters) \\n\")\n",
    "print(lettersA)\n",
    "print(\"\\n\")\n",
    "print(\"Value-elements: (Cipher Characters) \\n\")\n",
    "print(lettersB)\n",
    "print(\"\\n\")\n",
    "print(\"True- Mapping of the cipher with key values: \\n\")\n",
    "print(true_mapping)"
   ]
  },
  {
   "cell_type": "markdown",
   "metadata": {},
   "source": [
    "# Creating a Language Model"
   ]
  },
  {
   "cell_type": "code",
   "execution_count": 37,
   "metadata": {
    "collapsed": true
   },
   "outputs": [],
   "source": [
    "\n",
    "### Initialize the markov matrix (for Bigrams in the word)\n",
    "#...... The matrix has 26 rows and 26 columns with A-Z on both axes. \n",
    "M = np.ones((26,26)) #Initialising the matrix with 1's for all combinations of letters(reason:Add one Smoothing)\n",
    "\n",
    "### Initialize a numpy array (for unigrams: Precisely, for the first letter in the word)\n",
    "#Initial state distribution \n",
    "pi = np.zeros(26)\n",
    "\n",
    "### Function to update the Markov matrix \n",
    "# .... Markov matrix is a square matrix that takes values of probabilities in it\n",
    "# parameters: ch1 - represents the starting character; ch2 represents the ending character\n",
    "def update_transition(ch1, ch2):\n",
    "    i = ord(ch1) - 97    # ord() converts the chracter to it's ASCII value\n",
    "    j = ord(ch2) - 97    # for i,j: we are subtracting 97 from both to get the index value of the matrix starting \n",
    "                         # ... from 0 to 25 (since, we have 26 rows and 26 columns)\n",
    "                         # Because ASCII values for lowercase 'a' starts with 97\n",
    "            \n",
    "    M[i,j] += 1          # Updating the Markov matrix M with 1 for every ocurrence of the bigram\n",
    "    \n",
    "# Function to update the initial state distribution\n",
    "def update_pi(ch):\n",
    "    i = ord(ch) - 97\n",
    "    pi[i] += 1\n",
    "\n",
    "### Function for finding the Log probability of a single WORD (single token)\n",
    "# Parameter: input word\n",
    "\n",
    "def get_word_prob(word):\n",
    "    i = ord(word[0]) - 97\n",
    "    logp = np.log(pi[i])\n",
    "    \n",
    "    for ch in word[1:]:        # for individual bigrams in the word (Example: for \"CAT\", bigrams are: CA, AT)\n",
    "        j = ord(ch) - 97       # Calculating the index position of second letter in the bigram\n",
    "        logp += np.log(M[i,j]) # Calculating and summing the log probability of each bigram to existing value\n",
    "        i = j                  # Updating the first letter of the new bigram\n",
    "        \n",
    "    return logp\n",
    "\n",
    "### Finding the log probability of the sequence of words (i.e., sentence)\n",
    "# Parameter: imput sentence\n",
    "\n",
    "def get_sequence_prob(words):\n",
    "    # if input is a string\n",
    "    if type(words) == str:\n",
    "        # Convert the string(sentence) into individual tokens(words) and store them in an array\n",
    "        words = str.split(words)  # 'words' is now an array\n",
    "        \n",
    "    logp = 0 \n",
    "    for word in words:\n",
    "        logp += get_word_prob(word)  # Calling the function for every word and Adding individual word probabilities\n",
    "        \n",
    "    return logp  # this is the log probability of entire sentence!\n",
    "        \n",
    "    \n"
   ]
  },
  {
   "cell_type": "markdown",
   "metadata": {},
   "source": [
    "# Training the Language Model"
   ]
  },
  {
   "cell_type": "code",
   "execution_count": 38,
   "metadata": {},
   "outputs": [],
   "source": [
    "# download the file\n",
    "if not os.path.exists(\"moby_dick.txt\"):\n",
    "    print(\"Downloading Moby dick....\")\n",
    "    r = requests.get(\"https://lazyprogrammer.me/course_files/moby_dick.txt\")\n",
    "    with open(\"moby_dick.txt\", 'w') as f: \n",
    "        f.write(r.content.decode())  # decode function turns the byte array to a string\n",
    "        \n",
    "# If the file doesn't exist already on your computer, you are downloading it from the link mentioned and \n",
    "# saving it as a file on your computer \n"
   ]
  },
  {
   "cell_type": "code",
   "execution_count": 39,
   "metadata": {},
   "outputs": [],
   "source": [
    "# Data cleaning \n",
    "\n",
    "# remove non - alpha chracters\n",
    "regex = re.compile('[^a-zA-Z]') # Finds any character that is NOT a-z or A-Z\n",
    "\n",
    "# Loop that reads Moby Dick line by line\n",
    "\n",
    "for line in open('moby_dick.txt'):\n",
    "    line = line.rstrip() # Stripping out white spaces\n",
    "    \n",
    "    if line:\n",
    "        line = regex.sub(\" \", line) #replacing non -alpha characters with space\n",
    "        \n",
    "        tokens = line.lower().split() # splitting the line into words and converting to lowercase\n",
    "        \n",
    "        for token in tokens: # for updating the pi and M with count of letter occurences\n",
    "            \n",
    "            # first letter\n",
    "            ch0 = token[0]\n",
    "            update_pi(ch0)\n",
    "            \n",
    "            # other letters\n",
    "            for ch1 in token[1:]:\n",
    "                update_transition(ch0, ch1)\n",
    "                ch0 = ch1\n",
    "            \n",
    "# normalize the probabilities \n",
    "# .... converting the counts to probabilities: (individual count / total count) gives us the probabaility\n",
    "# In a transition matrix 'M' the row and column totals must sum up to 1: because they are probabilities!\n",
    "\n",
    "pi /= pi.sum() \n",
    "M /= M.sum(axis = 1, keepdims = True)\n",
    "\n",
    "        \n",
    "    "
   ]
  },
  {
   "cell_type": "markdown",
   "metadata": {},
   "source": [
    "# Encode and Decode a message"
   ]
  },
  {
   "cell_type": "code",
   "execution_count": 40,
   "metadata": {
    "collapsed": true
   },
   "outputs": [],
   "source": [
    "# this is a random excerpt from Project Gutenberg's\n",
    "# The Adventures of Sherlock Holmes, by Arthur Conan Doyle\n",
    "# https://www.gutenberg.org/ebooks/1661\n",
    "\n",
    "original_message = '''I then lounged down the street and found,\n",
    "as I expected, that there was a mews in a lane which runs down\n",
    "by one wall of the garden. I lent the ostlers a hand in rubbing\n",
    "down their horses, and received in exchange twopence, a glass of\n",
    "half-and-half, two fills of shag tobacco, and as much information\n",
    "as I could desire about Miss Adler, to say nothing of half a dozen\n",
    "other people in the neighbourhood in whom I was not in the least\n",
    "interested, but whose biographies I was compelled to listen to.\n",
    "'''\n",
    "\n",
    "# Away they went, and I was just wondering whether I should not do well\n",
    "# to follow them when up the lane came a neat little landau, the coachman\n",
    "# with his coat only half-buttoned, and his tie under his ear, while all\n",
    "# the tags of his harness were sticking out of the buckles. It hadn't\n",
    "# pulled up before she shot out of the hall door and into it. I only\n",
    "# caught a glimpse of her at the moment, but she was a lovely woman, with\n",
    "# a face that a man might die for.\n",
    "\n",
    "# My cabby drove fast. I don't think I ever drove faster, but the others\n",
    "# were there before us. The cab and the landau with their steaming horses\n",
    "# were in front of the door when I arrived. I paid the man and hurried\n",
    "# into the church. There was not a soul there save the two whom I had\n",
    "# followed and a surpliced clergyman, who seemed to be expostulating with\n",
    "# them. They were all three standing in a knot in front of the altar. I\n",
    "# lounged up the side aisle like any other idler who has dropped into a\n",
    "# church. Suddenly, to my surprise, the three at the altar faced round to\n",
    "# me, and Godfrey Norton came running as hard as he could towards me."
   ]
  },
  {
   "cell_type": "code",
   "execution_count": 41,
   "metadata": {
    "collapsed": true
   },
   "outputs": [],
   "source": [
    "# Encoding a message\n",
    "\n",
    "#.... the function defined below takes a raw message (as above) and returns a cipher text \n",
    "# encoding is done using a subsitution cipher \n",
    "\n",
    "def encode_message(msg):\n",
    "    msg = msg.lower() # Firstly, Lowercase all letters because mapping function contains only lowercase letters\n",
    "    \n",
    "    msg = regex.sub(' ', msg) # Substituting all the non-alpha characters with a space\n",
    "    \n",
    "    # Building the coded message\n",
    "    # loop for encoding individual word\n",
    "    coded_msg = [] \n",
    "    for ch in msg:\n",
    "        \n",
    "        coded_ch = ch                   # for the case where ch could be a non - alpha character (for space)\n",
    "        \n",
    "        if ch in true_mapping:           # if ch is present in the mapping dictionary\n",
    "            coded_ch = true_mapping[ch] # add the cipher value from dictionary to the list\n",
    "        coded_msg.append(coded_ch)\n",
    "     \n",
    "    return ''.join(coded_msg)      # returns final string where each word is JOINED\n",
    "\n",
    "encoded_message = encode_message(original_message)"
   ]
  },
  {
   "cell_type": "code",
   "execution_count": 42,
   "metadata": {
    "collapsed": true
   },
   "outputs": [],
   "source": [
    "# Decoding a message\n",
    "\n",
    "def decode_message(msg, word_map):\n",
    "    decoded_msg = []\n",
    "    \n",
    "    for ch in msg:\n",
    "        decoded_ch = ch # for a space\n",
    "        \n",
    "        if ch in word_map:\n",
    "            decoded_ch = word_map[ch]\n",
    "        decoded_msg.append(decoded_ch)\n",
    "    return ''.join(decoded_msg)"
   ]
  },
  {
   "cell_type": "markdown",
   "metadata": {},
   "source": [
    "# Evolutionary (Genetic) Algorithm"
   ]
  },
  {
   "cell_type": "code",
   "execution_count": 43,
   "metadata": {
    "collapsed": true
   },
   "outputs": [],
   "source": [
    "# Initialization point\n",
    "dna_pool = []\n",
    "\n",
    "for _ in range(20):  # we need a loop that iterates 20 times\n",
    "    dna = list(string.ascii_lowercase)  # dna string is a list containing lowercase letters\n",
    "    random.shuffle(dna)   # randomly shuffling the dna string to create a random mapping to dna pool\n",
    "    dna_pool.append(dna)   # appending the random mapping to dna_pool so that by the end of the loop we have \n",
    "                           #... 20 random dna strings\n",
    "\n",
    "\n",
    "# Function to evolve offspring\n",
    "# parameters: dna_pool , n_children: no. of children each individual will create\n",
    "def evolve_offspring(dna_pool, n_children):\n",
    "    offspring = [] \n",
    "    \n",
    "    for dna in dna_pool:               # to iterate over no. of parents \n",
    "        for _ in range(n_children):    # to iterate over no. of children\n",
    "            # In order to create a child, we perform random swapping\n",
    "            \n",
    "            copy = dna.copy()         # making a copy of the parent, so that we don't overwrite it!\n",
    "            j = np.random.randint(len(copy))   # j,k are the positions that we want to swap (randomly generated)\n",
    "            k = np.random.randint(len(copy))   # j,k are nothing but two random numbers between 0 and 25\n",
    "            \n",
    "            \n",
    "            # now, we do the swapping\n",
    "            temp = copy[j]\n",
    "            copy[j] = copy[k]\n",
    "            copy[k] = temp\n",
    "            \n",
    "            offspring.append(copy) # We are assigning the mutated (swapped) string to offspring\n",
    "            \n",
    "    return offspring + dna_pool # Offspring and parent lists are appended ---- Final population\n",
    "            \n",
    "    \n",
    "    "
   ]
  },
  {
   "cell_type": "code",
   "execution_count": 46,
   "metadata": {},
   "outputs": [
    {
     "name": "stdout",
     "output_type": "stream",
     "text": [
      "iter: 0 score: -2108.887413581533 best so far: -1722.6266405316976\n",
      "iter: 200 score: -1063.0154275835757 best so far: -939.2153552962346\n",
      "iter: 400 score: -1011.3183638268388 best so far: -929.5902922650557\n",
      "iter: 600 score: -1006.8402548426634 best so far: -929.5902922650557\n",
      "iter: 800 score: -1060.1270256129928 best so far: -929.5902922650557\n"
     ]
    }
   ],
   "source": [
    "# loop that runs the genetic algorithm\n",
    "\n",
    "num_iters = 1000 # number of iterations of the loop( = no. of offsprings we want to evolve)\n",
    "scores = np.zeros(num_iters)# an array that stores average score at each iteration\n",
    "best_dna = None # best DNA corresponds to best map and best map corresponds to best score\n",
    "best_map = None\n",
    "best_score = float ('-inf') # -infinity is the minimum possible score, that's why best_score is INITIALIZED to -inf\n",
    "\n",
    "for i in range(num_iters):\n",
    "    \n",
    "    # checking if it's the first iteration: If it's not the first iteration we needn't create an offspring\n",
    "    if i > 0:\n",
    "        # creating new offspring\n",
    "        dna_pool = evolve_offspring(dna_pool, 3)\n",
    "        \n",
    "    # Calculate the score for each dna string\n",
    "    dna2score = {} # key: DNA string , value: score\n",
    "    for dna in dna_pool: #inside the loop,we are converting dna string to mapping,so we can use to decode ciphertext\n",
    "        #populate map\n",
    "        current_map = {}\n",
    "        for k,v in zip(lettersA, dna):\n",
    "            current_map[k] = v\n",
    "        \n",
    "        decoded_message = decode_message(encoded_message, current_map) # decodes the cipher using current map\n",
    "        score = get_sequence_prob(decoded_message)  # calculates log likelihood of the decoded message\n",
    "        \n",
    "        # Storing the above score to the dictionary \n",
    "        \n",
    "        # the dna string is a list, and lists are not allowed to be used as dictionary keys\n",
    "        #... so we convert the list to string\n",
    "        dna2score[''.join(dna)] = score\n",
    "        \n",
    "        \n",
    "        # Compare the scores\n",
    "        if score > best_score:\n",
    "            best_dna = dna\n",
    "            best_map = current_map\n",
    "            best_score = score\n",
    "    \n",
    "    # Calculate the average score of the population and store it in an array\n",
    "    scores[i] = np.mean(list(dna2score.values()))\n",
    "    \n",
    "    # Survival of the fittest!\n",
    "    # keep the best 5 dna.... keeping the most 'fit' individuals \n",
    "    sorted_dna = sorted(dna2score.items(),key = lambda x: x[1], reverse = True) \n",
    "    # Above line: key argument we're passing x[1]-- we care about the key and not the value to sort values\n",
    "    \n",
    "    dna_pool = [list(k) for k, v in sorted_dna[:5]]\n",
    "\n",
    "    if i % 200 == 0:\n",
    "        print(\"iter:\", i, \"score:\", scores[i], \"best so far:\", best_score)\n",
    "    \n",
    "            "
   ]
  },
  {
   "cell_type": "code",
   "execution_count": 47,
   "metadata": {},
   "outputs": [
    {
     "name": "stdout",
     "output_type": "stream",
     "text": [
      "LL of decoded message: -929.5902922650557\n",
      "LL of true message: -933.0312453751817\n",
      "true: k, pred: q\n",
      "true: q, pred: z\n",
      "true: z, pred: k\n"
     ]
    }
   ],
   "source": [
    "# use best score\n",
    "decoded_message = decode_message(encoded_message, best_map)\n",
    "\n",
    "print(\"LL of decoded message:\", get_sequence_prob(decoded_message))\n",
    "print(\"LL of true message:\", get_sequence_prob(regex.sub(' ', original_message.lower())))\n",
    "\n",
    "\n",
    "# which letters are wrong?\n",
    "for true, v in true_mapping.items():\n",
    "  pred = best_map[v]\n",
    "  if true != pred:\n",
    "    print(\"true: %s, pred: %s\" % (true, pred))"
   ]
  },
  {
   "cell_type": "code",
   "execution_count": 48,
   "metadata": {},
   "outputs": [
    {
     "name": "stdout",
     "output_type": "stream",
     "text": [
      "Decoded message:\n",
      " i then lounged down the street and found  as i expected  that there\n",
      "was a mews in a lane which runs down by one wall of the garden  i lent\n",
      "the ostlers a hand in rubbing down their horses  and received in\n",
      "exchange twopence  a glass of half and half  two fills of shag tobacco\n",
      "and as much information as i could desire about miss adler  to say\n",
      "nothing of half a doken other people in the neighbourhood in whom i\n",
      "was not in the least interested  but whose biographies i was compelled\n",
      "to listen to\n",
      "\n",
      "True message:\n",
      " I then lounged down the street and found,\n",
      "as I expected, that there was a mews in a lane which runs down\n",
      "by one wall of the garden. I lent the ostlers a hand in rubbing\n",
      "down their horses, and received in exchange twopence, a glass of\n",
      "half-and-half, two fills of shag tobacco, and as much information\n",
      "as I could desire about Miss Adler, to say nothing of half a dozen\n",
      "other people in the neighbourhood in whom I was not in the least\n",
      "interested, but whose biographies I was compelled to listen to.\n",
      "\n"
     ]
    }
   ],
   "source": [
    "# print the final decoded message\n",
    "print(\"Decoded message:\\n\", textwrap.fill(decoded_message))\n",
    "\n",
    "print(\"\\nTrue message:\\n\", original_message)"
   ]
  },
  {
   "cell_type": "code",
   "execution_count": 49,
   "metadata": {},
   "outputs": [
    {
     "data": {
      "image/png": "[encoded data removed]",
      "text/plain": [
       "<matplotlib.figure.Figure at 0x7f80ba020128>"
      ]
     },
     "metadata": {},
     "output_type": "display_data"
    }
   ],
   "source": [
    "plt.plot(scores)\n",
    "plt.show()"
   ]
  },
  {
   "cell_type": "code",
   "execution_count": null,
   "metadata": {
    "collapsed": true
   },
   "outputs": [],
   "source": []
  }
 ],
 "metadata": {
  "kernelspec": {
   "display_name": "Python 3",
   "language": "python",
   "name": "python3"
  },
  "language_info": {
   "codemirror_mode": {
    "name": "ipython",
    "version": 3
   },
   "file_extension": ".py",
   "mimetype": "text/x-python",
   "name": "python",
   "nbconvert_exporter": "python",
   "pygments_lexer": "ipython3",
   "version": "3.6.3"
  }
 },
 "nbformat": 4,
 "nbformat_minor": 2
}
